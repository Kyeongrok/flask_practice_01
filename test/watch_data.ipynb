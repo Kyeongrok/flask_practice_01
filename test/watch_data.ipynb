{
 "cells": [
  {
   "cell_type": "code",
   "execution_count": 3,
   "outputs": [],
   "source": [
    "import pandas as pd\n",
    "from datetime import datetime"
   ],
   "metadata": {
    "collapsed": false,
    "pycharm": {
     "name": "#%%\n"
    }
   }
  },
  {
   "cell_type": "code",
   "execution_count": 1,
   "metadata": {
    "collapsed": true
   },
   "outputs": [],
   "source": [
    "import json\n",
    "\n",
    "with open('./map_auction_price.json') as f:\n",
    "    jo = json.loads(f.read())\n",
    "\n"
   ]
  },
  {
   "cell_type": "markdown",
   "source": [
    "```\n",
    " {'acSeCode': 1, 'aucSeNm': '경매',\n",
    " 'catgoryCode': 12,\n",
    " 'catgoryNewCode': 12, 'catgoryNewNm': '조미채소류',\n",
    " 'catgoryNm': '조미채소류', 'cprInsttCode': 35030101,\n",
    " 'cprInsttNewCode': 6054505, 'cprMtcCode': 570600, 'cprUsePrdlstCode': 5201, 'cprUsePrdlstNm': '대파',\n",
    " 'delngDe': 20200102, 'delngPrut': 4, 'delngQy': 160, 'insttNewNm': '익산원협(공)', 'insttNm': '익산원협(공)',\n",
    " 'ledgNo': 56, 'rnum': 196, 'sbidPric': 3800, 'shipmntSeCode': 3,\n",
    " 'shipmntSeNm': '개별', 'sleSeqn': 10, 'stdFrmlcNewCode': 101,\n",
    " 'stdFrmlcNewNm': '상자', 'stdMgNewCode': '1ZZ', 'stdMgNewNm': '기타',\n",
    " 'stdMtcNewCode': 54500, 'stdMtcNewNm': '전라북도 익산시', 'stdPrdlstCode': 1202, 'stdPrdlstNewCode': 1202, 'stdPrdlstNewNm': '대파', 'stdPrdlstNm': '대파', 'stdQlityNewCode': 11, 'stdQlityNewNm': '특', 'stdSpciesCode': 120201, 'stdSpciesNewCode': 120201, 'stdSpciesNewNm': '대파(일반)', 'stdSpciesNm': '대파(일반)', 'stdUnitNewCode': 12, 'stdUnitNewNm': 'kg', 'whsalMrktCode': 350301,\n",
    " 'whsalMrktNewCode': 1054501, 'whsalMrktNewNm': '익산농수산물도매시장', 'whsalMrktNm': '익산도매시장'}\n",
    "```"
   ],
   "metadata": {
    "collapsed": false,
    "pycharm": {
     "name": "#%% md\n"
    }
   }
  },
  {
   "cell_type": "markdown",
   "source": [
    "### Design\n",
    "```\n",
    "해당 도매시장에서 일부만 있는 경우 -> 없는 데이터는 max시간에 +1씩\n",
    "해당 날짜 경매 참석한 모든 공판장\n",
    "모든 공판장별 max, min을 구한다.\n",
    "```\n"
   ],
   "metadata": {
    "collapsed": false,
    "pycharm": {
     "name": "#%% md\n"
    }
   }
  },
  {
   "cell_type": "code",
   "execution_count": 12,
   "outputs": [
    {
     "ename": "TypeError",
     "evalue": "unhashable type: 'slice'",
     "output_type": "error",
     "traceback": [
      "\u001B[0;31m---------------------------------------------------------------------------\u001B[0m",
      "\u001B[0;31mTypeError\u001B[0m                                 Traceback (most recent call last)",
      "\u001B[0;32m<ipython-input-12-3f39fdcb0fea>\u001B[0m in \u001B[0;36m<module>\u001B[0;34m\u001B[0m\n\u001B[0;32m----> 1\u001B[0;31m \u001B[0;32mfor\u001B[0m \u001B[0mi\u001B[0m \u001B[0;32min\u001B[0m \u001B[0mjo\u001B[0m\u001B[0;34m[\u001B[0m\u001B[0;34m:\u001B[0m\u001B[0;36m30\u001B[0m\u001B[0;34m]\u001B[0m\u001B[0;34m:\u001B[0m\u001B[0;34m\u001B[0m\u001B[0;34m\u001B[0m\u001B[0m\n\u001B[0m\u001B[1;32m      2\u001B[0m     \u001B[0mprint\u001B[0m\u001B[0;34m(\u001B[0m\u001B[0mi\u001B[0m\u001B[0;34m)\u001B[0m\u001B[0;34m\u001B[0m\u001B[0;34m\u001B[0m\u001B[0m\n\u001B[1;32m      3\u001B[0m \u001B[0;34m\u001B[0m\u001B[0m\n",
      "\u001B[0;31mTypeError\u001B[0m: unhashable type: 'slice'"
     ]
    }
   ],
   "source": [
    "for i in jo:\n",
    "    print(i)"
   ],
   "metadata": {
    "collapsed": false,
    "pycharm": {
     "name": "#%%\n"
    }
   }
  },
  {
   "cell_type": "code",
   "execution_count": 7,
   "outputs": [
    {
     "ename": "ValueError",
     "evalue": "time data '2020-09-22 ::' does not match format '%Y-%m-%d %H:%M:%S'",
     "output_type": "error",
     "traceback": [
      "\u001B[0;31m---------------------------------------------------------------------------\u001B[0m",
      "\u001B[0;31mValueError\u001B[0m                                Traceback (most recent call last)",
      "\u001B[0;32m<ipython-input-7-1ccc158a3dc2>\u001B[0m in \u001B[0;36m<module>\u001B[0;34m\u001B[0m\n\u001B[1;32m     21\u001B[0m     \u001B[0;32mreturn\u001B[0m \u001B[0mwhsal_mrk\u001B[0m\u001B[0;34m\u001B[0m\u001B[0;34m\u001B[0m\u001B[0m\n\u001B[1;32m     22\u001B[0m \u001B[0;31m# print(len(jo['20200102']))\u001B[0m\u001B[0;34m\u001B[0m\u001B[0;34m\u001B[0m\u001B[0;34m\u001B[0m\u001B[0m\n\u001B[0;32m---> 23\u001B[0;31m \u001B[0mwhsal_mrk\u001B[0m \u001B[0;34m=\u001B[0m \u001B[0mget_max_timestamp\u001B[0m\u001B[0;34m(\u001B[0m\u001B[0mjo\u001B[0m\u001B[0;34m[\u001B[0m\u001B[0;34m'20200922'\u001B[0m\u001B[0;34m]\u001B[0m\u001B[0;34m)\u001B[0m\u001B[0;34m\u001B[0m\u001B[0;34m\u001B[0m\u001B[0m\n\u001B[0m\u001B[1;32m     24\u001B[0m \u001B[0;31m# whsal_mrk\u001B[0m\u001B[0;34m\u001B[0m\u001B[0;34m\u001B[0m\u001B[0;34m\u001B[0m\u001B[0m\n\u001B[1;32m     25\u001B[0m \u001B[0;34m\u001B[0m\u001B[0m\n",
      "\u001B[0;32m<ipython-input-7-1ccc158a3dc2>\u001B[0m in \u001B[0;36mget_max_timestamp\u001B[0;34m(p_jo)\u001B[0m\n\u001B[1;32m     11\u001B[0m         \u001B[0;32melse\u001B[0m\u001B[0;34m:\u001B[0m\u001B[0;34m\u001B[0m\u001B[0;34m\u001B[0m\u001B[0m\n\u001B[1;32m     12\u001B[0m             \u001B[0;31m# 있는 경우는 제대로 없는 경우가 있다\u001B[0m\u001B[0;34m\u001B[0m\u001B[0;34m\u001B[0m\u001B[0;34m\u001B[0m\u001B[0m\n\u001B[0;32m---> 13\u001B[0;31m             \u001B[0mdt\u001B[0m \u001B[0;34m=\u001B[0m \u001B[0mdatetime\u001B[0m\u001B[0;34m.\u001B[0m\u001B[0mstrptime\u001B[0m\u001B[0;34m(\u001B[0m\u001B[0mstr\u001B[0m\u001B[0;34m(\u001B[0m\u001B[0mitem\u001B[0m\u001B[0;34m[\u001B[0m\u001B[0;34m'sbidTime'\u001B[0m\u001B[0;34m]\u001B[0m\u001B[0;34m)\u001B[0m\u001B[0;34m,\u001B[0m \u001B[0;34m'%Y-%m-%d %H:%M:%S'\u001B[0m\u001B[0;34m)\u001B[0m\u001B[0;34m\u001B[0m\u001B[0;34m\u001B[0m\u001B[0m\n\u001B[0m\u001B[1;32m     14\u001B[0m             \u001B[0;31m# print(item['whsalMrktNewCode'], item['delngDe'], item['sbidTime'])\u001B[0m\u001B[0;34m\u001B[0m\u001B[0;34m\u001B[0m\u001B[0;34m\u001B[0m\u001B[0m\n\u001B[1;32m     15\u001B[0m \u001B[0;34m\u001B[0m\u001B[0m\n",
      "\u001B[0;32m~/miniforge3_2/envs/tf6/lib/python3.8/_strptime.py\u001B[0m in \u001B[0;36m_strptime_datetime\u001B[0;34m(cls, data_string, format)\u001B[0m\n\u001B[1;32m    566\u001B[0m     \"\"\"Return a class cls instance based on the input string and the\n\u001B[1;32m    567\u001B[0m     format string.\"\"\"\n\u001B[0;32m--> 568\u001B[0;31m     \u001B[0mtt\u001B[0m\u001B[0;34m,\u001B[0m \u001B[0mfraction\u001B[0m\u001B[0;34m,\u001B[0m \u001B[0mgmtoff_fraction\u001B[0m \u001B[0;34m=\u001B[0m \u001B[0m_strptime\u001B[0m\u001B[0;34m(\u001B[0m\u001B[0mdata_string\u001B[0m\u001B[0;34m,\u001B[0m \u001B[0mformat\u001B[0m\u001B[0;34m)\u001B[0m\u001B[0;34m\u001B[0m\u001B[0;34m\u001B[0m\u001B[0m\n\u001B[0m\u001B[1;32m    569\u001B[0m     \u001B[0mtzname\u001B[0m\u001B[0;34m,\u001B[0m \u001B[0mgmtoff\u001B[0m \u001B[0;34m=\u001B[0m \u001B[0mtt\u001B[0m\u001B[0;34m[\u001B[0m\u001B[0;34m-\u001B[0m\u001B[0;36m2\u001B[0m\u001B[0;34m:\u001B[0m\u001B[0;34m]\u001B[0m\u001B[0;34m\u001B[0m\u001B[0;34m\u001B[0m\u001B[0m\n\u001B[1;32m    570\u001B[0m     \u001B[0margs\u001B[0m \u001B[0;34m=\u001B[0m \u001B[0mtt\u001B[0m\u001B[0;34m[\u001B[0m\u001B[0;34m:\u001B[0m\u001B[0;36m6\u001B[0m\u001B[0;34m]\u001B[0m \u001B[0;34m+\u001B[0m \u001B[0;34m(\u001B[0m\u001B[0mfraction\u001B[0m\u001B[0;34m,\u001B[0m\u001B[0;34m)\u001B[0m\u001B[0;34m\u001B[0m\u001B[0;34m\u001B[0m\u001B[0m\n",
      "\u001B[0;32m~/miniforge3_2/envs/tf6/lib/python3.8/_strptime.py\u001B[0m in \u001B[0;36m_strptime\u001B[0;34m(data_string, format)\u001B[0m\n\u001B[1;32m    347\u001B[0m     \u001B[0mfound\u001B[0m \u001B[0;34m=\u001B[0m \u001B[0mformat_regex\u001B[0m\u001B[0;34m.\u001B[0m\u001B[0mmatch\u001B[0m\u001B[0;34m(\u001B[0m\u001B[0mdata_string\u001B[0m\u001B[0;34m)\u001B[0m\u001B[0;34m\u001B[0m\u001B[0;34m\u001B[0m\u001B[0m\n\u001B[1;32m    348\u001B[0m     \u001B[0;32mif\u001B[0m \u001B[0;32mnot\u001B[0m \u001B[0mfound\u001B[0m\u001B[0;34m:\u001B[0m\u001B[0;34m\u001B[0m\u001B[0;34m\u001B[0m\u001B[0m\n\u001B[0;32m--> 349\u001B[0;31m         raise ValueError(\"time data %r does not match format %r\" %\n\u001B[0m\u001B[1;32m    350\u001B[0m                          (data_string, format))\n\u001B[1;32m    351\u001B[0m     \u001B[0;32mif\u001B[0m \u001B[0mlen\u001B[0m\u001B[0;34m(\u001B[0m\u001B[0mdata_string\u001B[0m\u001B[0;34m)\u001B[0m \u001B[0;34m!=\u001B[0m \u001B[0mfound\u001B[0m\u001B[0;34m.\u001B[0m\u001B[0mend\u001B[0m\u001B[0;34m(\u001B[0m\u001B[0;34m)\u001B[0m\u001B[0;34m:\u001B[0m\u001B[0;34m\u001B[0m\u001B[0;34m\u001B[0m\u001B[0m\n",
      "\u001B[0;31mValueError\u001B[0m: time data '2020-09-22 ::' does not match format '%Y-%m-%d %H:%M:%S'"
     ]
    }
   ],
   "source": [
    "def get_max_timestamp(p_jo):\n",
    "    whsal_mrk = {}\n",
    "    for item in p_jo:\n",
    "        if whsal_mrk.get(item['whsalMrktNewCode']) == None:\n",
    "            whsal_mrk[item['whsalMrktNewCode']] = {'max_timestamp':0, 'date':None}\n",
    "\n",
    "        if item.get('sbidTime') == None:\n",
    "            # 없는 경우는 당일 08:00:00에서 +1씩 증가\n",
    "            dt = datetime.strptime(str(item['delngDe']), '%Y%m%d')\n",
    "\n",
    "        else:\n",
    "            # 있는 경우는 제대로 없는 경우가 있다\n",
    "            # ex) '2020-09-22 ::' 이렇게 time을 안찍은 경우가 있음.\n",
    "            # pattern에 match하면 아래 로직 타고 아니면 delngDe로\n",
    "            dt = datetime.strptime(str(item['sbidTime']), '%Y-%m-%d %H:%M:%S')\n",
    "            # print(item['whsalMrktNewCode'], item['delngDe'], item['sbidTime'])\n",
    "\n",
    "        tst = int(datetime.timestamp(dt))\n",
    "        if tst > whsal_mrk[item['whsalMrktNewCode']]['max_timestamp']:\n",
    "            whsal_mrk[item['whsalMrktNewCode']]['max_timestamp'] = tst\n",
    "            whsal_mrk[item['whsalMrktNewCode']]['date'] = datetime.fromtimestamp(tst)\n",
    "\n",
    "    return whsal_mrk"
   ],
   "metadata": {
    "collapsed": false,
    "pycharm": {
     "name": "#%%\n"
    }
   }
  },
  {
   "cell_type": "code",
   "execution_count": null,
   "outputs": [],
   "source": [
    "# print(len(jo['20200102']))\n",
    "whsal_mrk = get_max_timestamp(jo['20200922'])\n",
    "# whsal_mrk\n",
    "\n",
    "\n",
    "# #whsal_mrk를 참고해서 없는 애들은\n",
    "for item in jo['20200720']:\n",
    "    if item.get('sbidTime') == None:\n",
    "        whsal_mrk[item['whsalMrktNewCode']]['max_timestamp'] += 1\n",
    "        sbid_tst = whsal_mrk[item['whsalMrktNewCode']]['max_timestamp']\n",
    "        sbid_time = datetime.fromtimestamp(sbid_tst)\n",
    "        print(sbid_time)\n",
    "    else:\n",
    "        # max에 1초를 더한 값을 바인딩 하고\n",
    "        # max에 1을 더한 값을 저장한다\n",
    "        whsal_mrk[item['whsalMrktNewCode']]['max_timestamp'] += 1\n",
    "        tst = whsal_mrk[item['whsalMrktNewCode']]['max_timestamp']\n",
    "        sbid_tst = datetime.fromtimestamp(tst)\n",
    "        print(sbid_tst)\n",
    "\n",
    "    # print(item['sbidTime'], item['whsalMrktNewCode'], item['whsalMrktNewNm'])\n"
   ],
   "metadata": {
    "collapsed": false,
    "pycharm": {
     "name": "#%%\n"
    }
   }
  },
  {
   "cell_type": "code",
   "execution_count": 2,
   "outputs": [
    {
     "ename": "NameError",
     "evalue": "name 'jo' is not defined",
     "output_type": "error",
     "traceback": [
      "\u001B[0;31m---------------------------------------------------------------------------\u001B[0m",
      "\u001B[0;31mNameError\u001B[0m                                 Traceback (most recent call last)",
      "\u001B[0;32m<ipython-input-2-807c6b93ade7>\u001B[0m in \u001B[0;36m<module>\u001B[0;34m\u001B[0m\n\u001B[1;32m      2\u001B[0m \u001B[0;31m#     print(item['sbidTime'], item['whsalMrktNewNm'])\u001B[0m\u001B[0;34m\u001B[0m\u001B[0;34m\u001B[0m\u001B[0;34m\u001B[0m\u001B[0m\n\u001B[1;32m      3\u001B[0m \u001B[0;34m\u001B[0m\u001B[0m\n\u001B[0;32m----> 4\u001B[0;31m \u001B[0mjo\u001B[0m\u001B[0;34m\u001B[0m\u001B[0;34m\u001B[0m\u001B[0m\n\u001B[0m",
      "\u001B[0;31mNameError\u001B[0m: name 'jo' is not defined"
     ]
    }
   ],
   "source": [
    "# for item in jo['20200720']:\n",
    "#     print(item['sbidTime'], item['whsalMrktNewNm'])"
   ],
   "metadata": {
    "collapsed": false,
    "pycharm": {
     "name": "#%%\n"
    }
   }
  },
  {
   "cell_type": "code",
   "execution_count": 19,
   "outputs": [
    {
     "name": "stdout",
     "output_type": "stream",
     "text": [
      "2089\n",
      "110001\n",
      "184\n",
      "110008\n",
      "107\n",
      "210001\n",
      "120\n",
      "210009\n",
      "181\n",
      "220001\n",
      "70\n",
      "230001\n",
      "103\n",
      "230003\n",
      "112\n",
      "240001\n",
      "135\n",
      "240004\n",
      "150\n",
      "250001\n",
      "87\n",
      "250003\n",
      "90\n",
      "310101\n",
      "31\n",
      "310401\n",
      "61\n",
      "310901\n",
      "37\n",
      "311201\n",
      "139\n",
      "320101\n",
      "4\n",
      "320201\n",
      "42\n",
      "320301\n",
      "15\n",
      "330101\n",
      "83\n",
      "330201\n",
      "29\n",
      "340101\n",
      "28\n",
      "350301\n",
      "38\n",
      "350402\n",
      "10\n",
      "360301\n",
      "25\n",
      "371501\n",
      "35\n",
      "380101\n",
      "52\n",
      "380201\n",
      "48\n",
      "380303\n",
      "44\n",
      "380401\n",
      "29\n"
     ]
    }
   ],
   "source": [
    "print(len(jo['20200922']))\n",
    "# for i in jo['20200922'][:10]:\n",
    "#     print(i['rnum'])\n",
    "\n",
    "from test.map_maker import make_map\n",
    "\n",
    "r = make_map(jo['20200922'], 'whsalMrktCode')\n",
    "\n",
    "for i in r:\n",
    "    print(i)\n",
    "    print(len(r[i]))"
   ],
   "metadata": {
    "collapsed": false,
    "pycharm": {
     "name": "#%%\n"
    }
   }
  }
 ],
 "metadata": {
  "kernelspec": {
   "display_name": "Python 3",
   "language": "python",
   "name": "python3"
  },
  "language_info": {
   "codemirror_mode": {
    "name": "ipython",
    "version": 2
   },
   "file_extension": ".py",
   "mimetype": "text/x-python",
   "name": "python",
   "nbconvert_exporter": "python",
   "pygments_lexer": "ipython2",
   "version": "2.7.6"
  }
 },
 "nbformat": 4,
 "nbformat_minor": 0
}
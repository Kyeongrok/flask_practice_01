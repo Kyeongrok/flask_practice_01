{
 "cells": [
  {
   "cell_type": "code",
   "execution_count": 1,
   "outputs": [],
   "source": [
    "import pandas as pd\n",
    "from datetime import datetime\n",
    "from test.map_maker import make_map\n",
    "\n",
    "import json"
   ],
   "metadata": {
    "collapsed": false,
    "pycharm": {
     "name": "#%%\n"
    }
   }
  },
  {
   "cell_type": "code",
   "execution_count": 3,
   "metadata": {
    "collapsed": true
   },
   "outputs": [],
   "source": [
    "with open('./map_auction.json') as f:\n",
    "    jo = json.loads(f.read())"
   ]
  },
  {
   "cell_type": "markdown",
   "source": [
    "```\n",
    " {'acSeCode': 1, 'aucSeNm': '경매',\n",
    " 'catgoryCode': 12,\n",
    " 'catgoryNewCode': 12, 'catgoryNewNm': '조미채소류',\n",
    " 'catgoryNm': '조미채소류', 'cprInsttCode': 35030101,\n",
    " 'cprInsttNewCode': 6054505, 'cprMtcCode': 570600, 'cprUsePrdlstCode': 5201, 'cprUsePrdlstNm': '대파',\n",
    " 'delngDe': 20200102, 'delngPrut': 4, 'delngQy': 160, 'insttNewNm': '익산원협(공)', 'insttNm': '익산원협(공)',\n",
    " 'ledgNo': 56, 'rnum': 196, 'sbidPric': 3800, 'shipmntSeCode': 3,\n",
    " 'shipmntSeNm': '개별', 'sleSeqn': 10, 'stdFrmlcNewCode': 101,\n",
    " 'stdFrmlcNewNm': '상자', 'stdMgNewCode': '1ZZ', 'stdMgNewNm': '기타',\n",
    " 'stdMtcNewCode': 54500, 'stdMtcNewNm': '전라북도 익산시', 'stdPrdlstCode': 1202, 'stdPrdlstNewCode': 1202, 'stdPrdlstNewNm': '대파', 'stdPrdlstNm': '대파', 'stdQlityNewCode': 11, 'stdQlityNewNm': '특', 'stdSpciesCode': 120201, 'stdSpciesNewCode': 120201, 'stdSpciesNewNm': '대파(일반)', 'stdSpciesNm': '대파(일반)', 'stdUnitNewCode': 12, 'stdUnitNewNm': 'kg', 'whsalMrktCode': 350301,\n",
    " 'whsalMrktNewCode': 1054501, 'whsalMrktNewNm': '익산농수산물도매시장', 'whsalMrktNm': '익산도매시장'}\n",
    "```"
   ],
   "metadata": {
    "collapsed": false,
    "pycharm": {
     "name": "#%% md\n"
    }
   }
  },
  {
   "cell_type": "markdown",
   "source": [
    "### Design\n",
    "```\n",
    "해당 도매시장에서 일부만 있는 경우 -> 없는 데이터는 max시간에 +1씩\n",
    "해당 날짜 경매 참석한 모든 공판장\n",
    "모든 공판장별 max, min을 구한다.\n",
    "```"
   ],
   "metadata": {
    "collapsed": false,
    "pycharm": {
     "name": "#%% md\n"
    }
   }
  },
  {
   "cell_type": "code",
   "execution_count": 11,
   "outputs": [],
   "source": [
    "def get_max_timestamp(p_jo):\n",
    "    whsal_mrk = {}\n",
    "    for item in p_jo:\n",
    "        if whsal_mrk.get(item['whsalMrktNewCode']) == None:\n",
    "            whsal_mrk[item['whsalMrktNewCode']] = {'max_timestamp':0, 'date':None}\n",
    "\n",
    "        if item.get('sbidTime') == None:\n",
    "            # 없는 경우는 당일 08:00:00에서 +1씩 증가\n",
    "            dt = datetime.strptime(str(item['delngDe']), '%Y%m%d')\n",
    "\n",
    "        else:\n",
    "            # 있는 경우는 제대로 없는 경우가 있다\n",
    "            # ex) '2020-09-22 ::' 이렇게 time을 안찍은 경우가 있음.\n",
    "            # try catch를 건다.\n",
    "            # pattern에 match하면 아래 로직 타고 아니면 delngDe로\n",
    "            try:\n",
    "                dt = datetime.strptime(str(item['sbidTime']), '%Y-%m-%d %H:%M:%S')\n",
    "            except Exception as e:\n",
    "                dt = datetime.strptime(str(item['delngDe']), '%Y%m%d')\n",
    "            # print(item['whsalMrktNewCode'], item['delngDe'], item['sbidTime'])\n",
    "\n",
    "        tst = int(datetime.timestamp(dt))\n",
    "        if tst > whsal_mrk[item['whsalMrktNewCode']]['max_timestamp']:\n",
    "            whsal_mrk[item['whsalMrktNewCode']]['max_timestamp'] = tst\n",
    "            whsal_mrk[item['whsalMrktNewCode']]['date'] = datetime.fromtimestamp(tst)\n",
    "\n",
    "    return whsal_mrk"
   ],
   "metadata": {
    "collapsed": false,
    "pycharm": {
     "name": "#%%\n"
    }
   }
  },
  {
   "cell_type": "code",
   "execution_count": null,
   "outputs": [],
   "source": [
    "def fn1(whsal_mrk):\n",
    "    # #whsal_mrk를 참고해서 없는 애들은\n",
    "    for item in jo['20200720']:\n",
    "        if item.get('sbidTime') == None:\n",
    "            whsal_mrk[item['whsalMrktNewCode']]['max_timestamp'] += 1\n",
    "            sbid_tst = whsal_mrk[item['whsalMrktNewCode']]['max_timestamp']\n",
    "            sbid_time = datetime.fromtimestamp(sbid_tst)\n",
    "            print(sbid_time)\n",
    "        else:\n",
    "            # max에 1초를 더한 값을 바인딩 하고\n",
    "            # max에 1을 더한 값을 저장한다\n",
    "            whsal_mrk[item['whsalMrktNewCode']]['max_timestamp'] += 1\n",
    "            tst = whsal_mrk[item['whsalMrktNewCode']]['max_timestamp']\n",
    "            sbid_tst = datetime.fromtimestamp(tst)\n",
    "            print(sbid_tst)\n",
    "\n",
    "        # print(item['sbidTime'], item['whsalMrktNewCode'], item['whsalMrktNewNm'])\n",
    "\n",
    "# whsal_mrk = get_max_timestamp(jo['20200922'])\n",
    "# fn1(whsal_mrk)"
   ],
   "metadata": {
    "collapsed": false,
    "pycharm": {
     "name": "#%%\n"
    }
   }
  },
  {
   "cell_type": "code",
   "execution_count": 23,
   "outputs": [],
   "source": [
    "# 작물코드 1201는 있고 날짜, wcode만 남음\n",
    "def save_each_whsal_mrkt():\n",
    "    for delngDe in jo:\n",
    "        r = make_map(jo[delngDe], 'whsalMrktCode')\n",
    "        for whsalMrktCode in r:\n",
    "            with open(f\"./data/{delngDe}_{whsalMrktCode}.json\", 'w+') as f:\n",
    "                f.write(json.dumps(r[whsalMrktCode]))\n",
    "\n",
    "\n"
   ],
   "metadata": {
    "collapsed": false,
    "pycharm": {
     "name": "#%%\n"
    }
   }
  }
 ],
 "metadata": {
  "kernelspec": {
   "display_name": "Python 3",
   "language": "python",
   "name": "python3"
  },
  "language_info": {
   "codemirror_mode": {
    "name": "ipython",
    "version": 2
   },
   "file_extension": ".py",
   "mimetype": "text/x-python",
   "name": "python",
   "nbconvert_exporter": "python",
   "pygments_lexer": "ipython2",
   "version": "2.7.6"
  }
 },
 "nbformat": 4,
 "nbformat_minor": 0
}